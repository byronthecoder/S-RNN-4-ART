{
 "cells": [
  {
   "cell_type": "code",
   "execution_count": 1,
   "metadata": {},
   "outputs": [
    {
     "name": "stdout",
     "output_type": "stream",
     "text": [
      "/Users/the-imitation-gamer/anaconda3/envs/deepCobra/lib/python3.9/site-packages/requests/__init__.py:102: RequestsDependencyWarning: urllib3 (1.26.12) or chardet (5.0.0)/charset_normalizer (2.0.8) doesn't match a supported version!\n",
      "  warnings.warn(\"urllib3 ({}) or chardet ({})/charset_normalizer ({}) doesn't match a supported \"\n",
      "Writing weight file /Users/the-imitation-gamer/Documents/GitHub/DeepCobra/models/tfjs/mod_220722/model.json...\n"
     ]
    }
   ],
   "source": [
    "!tensorflowjs_converter --input_format tf_saved_model --output_format tfjs_graph_model --control_flow_v2=true /Users/the-imitation-gamer/Documents/GitHub/DeepCobra/models/mod_220722_new /Users/the-imitation-gamer/Documents/GitHub/DeepCobra/models/tfjs/mod_220722"
   ]
  },
  {
   "cell_type": "code",
   "execution_count": 2,
   "metadata": {},
   "outputs": [
    {
     "name": "stdout",
     "output_type": "stream",
     "text": [
      "/Users/the-imitation-gamer/anaconda3/envs/deepCobra/lib/python3.9/site-packages/requests/__init__.py:102: RequestsDependencyWarning: urllib3 (1.26.12) or chardet (5.0.0)/charset_normalizer (2.0.8) doesn't match a supported version!\n",
      "  warnings.warn(\"urllib3 ({}) or chardet ({})/charset_normalizer ({}) doesn't match a supported \"\n",
      "Writing weight file /Users/the-imitation-gamer/Documents/GitHub/DeepCobra/models/tfjs/mod_220722/model.json...\n"
     ]
    }
   ],
   "source": [
    "!tensorflowjs_converter \\\n",
    "    --input_format=tf_saved_model \\\n",
    "    --output_format=tfjs_graph_model \\\n",
    "    --control_flow_v2=true \\\n",
    "    --signature_name=serving_default \\\n",
    "    --saved_model_tags=serve \\\n",
    "    /Users/the-imitation-gamer/Documents/GitHub/DeepCobra/models/mod_220722_new \\\n",
    "    /Users/the-imitation-gamer/Documents/GitHub/DeepCobra/models/tfjs/mod_220722"
   ]
  },
  {
   "cell_type": "code",
   "execution_count": null,
   "metadata": {},
   "outputs": [],
   "source": []
  }
 ],
 "metadata": {
  "kernelspec": {
   "display_name": "deepCobra",
   "language": "python",
   "name": "python3"
  },
  "language_info": {
   "codemirror_mode": {
    "name": "ipython",
    "version": 3
   },
   "file_extension": ".py",
   "mimetype": "text/x-python",
   "name": "python",
   "nbconvert_exporter": "python",
   "pygments_lexer": "ipython3",
   "version": "3.9.13"
  },
  "orig_nbformat": 4
 },
 "nbformat": 4,
 "nbformat_minor": 2
}
